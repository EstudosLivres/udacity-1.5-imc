{
 "cells": [
  {
   "cell_type": "markdown",
   "metadata": {},
   "source": [
    "# Udacity Lesson 5 Quiz\n",
    "1. __Carregue os dados__\n",
    "<br>Os dados estão no arquivo chamado \"bmi_and_life_expectancy.csv\". Use a função do pandas chamada read_csv para carregar os dados em um dataframe. Salve o dataframe na variável bmi_life_data.\n",
    "\n",
    "2. __Construa um modelo de regressão linear__\n",
    "<br>Crie um modelo de regressão usando o objeto LinearRegression do scikit-learn e salve-o na variável bmi_life_model. Treine o modelo com os dados.\n",
    "\n",
    "3. __Faça previsões com o modelo__\n",
    "<br>Faça previsões usando um IMC de 21.07931 e o salve na variável laos_life_exp."
   ]
  },
  {
   "cell_type": "code",
   "execution_count": 10,
   "metadata": {
    "collapsed": true
   },
   "outputs": [],
   "source": [
    "# Import pandas to Data manipulate\n",
    "import pandas as pd\n",
    "# Import LinearRegression to train it AI\n",
    "from sklearn.linear_model import LinearRegression"
   ]
  },
  {
   "cell_type": "code",
   "execution_count": 4,
   "metadata": {
    "collapsed": true
   },
   "outputs": [],
   "source": [
    "# Load the data using panda csv reader, so the object generated will have all panda methods (dataframe)\n",
    "bmi_life_data = pd.read_csv(\"bmi_and_life_expectancy.csv\")"
   ]
  },
  {
   "cell_type": "code",
   "execution_count": 9,
   "metadata": {},
   "outputs": [
    {
     "name": "stdout",
     "output_type": "stream",
     "text": [
      "[[ 60.31564716]]\n"
     ]
    }
   ],
   "source": [
    "# Create it LinearRegression Model\n",
    "bmi_life_model = LinearRegression()\n",
    "\n",
    "# setup (x_value & y_value)s that we WANT to fit (values which we want that the AI find for us)\n",
    "x_value = bmi_life_data[['BMI']] # IMC Average for each country\n",
    "y_value = bmi_life_data[['Life expectancy']] # Life expectancy for each country on the CSV\n",
    "\n",
    "# Say to the Model to try to find what we expect as a result (HERE IS A MACHINE LEARNING SOLUTION)\n",
    "bmi_life_model.fit(x_value, y_value)\n",
    "\n",
    "# Make a prediction using the model (here is the outcoming)\n",
    "laos_life_exp = bmi_life_model.predict(21.07931)\n",
    "print(laos_life_exp)"
   ]
  }
 ],
 "metadata": {
  "kernelspec": {
   "display_name": "Python 3",
   "language": "python",
   "name": "python3"
  },
  "language_info": {
   "codemirror_mode": {
    "name": "ipython",
    "version": 3
   },
   "file_extension": ".py",
   "mimetype": "text/x-python",
   "name": "python",
   "nbconvert_exporter": "python",
   "pygments_lexer": "ipython3",
   "version": "3.6.1"
  }
 },
 "nbformat": 4,
 "nbformat_minor": 2
}
